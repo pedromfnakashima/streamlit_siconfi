{
 "cells": [
  {
   "cell_type": "markdown",
   "id": "67cc4694",
   "metadata": {},
   "source": [
    "Comentários\n",
    "\n",
    "python3 -c \"import streamlit; print('Instalada')\"\n",
    "\n",
    "python3 -c \"import socket; print('Instalada')\""
   ]
  },
  {
   "cell_type": "code",
   "execution_count": 8,
   "id": "ae9d4284",
   "metadata": {},
   "outputs": [
    {
     "name": "stdout",
     "output_type": "stream",
     "text": [
      "📂🏠 Diretório atual inicial:\n",
      "/home/pedromfn/Documentos/Projetos/MeusProjetos/Permanentes/RAG_001_postgres/workspace/Projetos/Atuais/DataScience-MachineLearning/Siconfi/Streamlit\n",
      "🖥️ Nome do computador: pedromfn-Ubuntu-Predator\n",
      "📂☁️ GD_dados >> /home/pedromfn/Nuvens/GoogleDrive/05-Codigos-Dados-Documentacoes-CheatSheets/Dados\n"
     ]
    }
   ],
   "source": [
    "from pathlib import Path\n",
    "import socket\n",
    "import streamlit as st\n",
    "import pandas as pd\n",
    "import json\n",
    "\n",
    "nome_do_computador = socket.gethostname()\n",
    "\n",
    "if nome_do_computador == \"pedromfn-Ubuntu-Predator\":\n",
    "  GD_dados = Path(\"/home/pedromfn/Nuvens/GoogleDrive/05-Codigos-Dados-Documentacoes-CheatSheets/Dados\")\n",
    "elif nome_do_computador == \"pedromfn-Windows-Predator\":\n",
    "  GD_dados = Path(r\"C:\\01-MeusArquivos\\01-Nuvens\\GoogleDrive\\05-Codigos-Dados-Documentacoes-CheatSheets\\Dados\")\n",
    "elif nome_do_computador == \"pedromfn-Ubuntu-desktop\":\n",
    "  GD_dados = Path(\"/mnt/SSD_2TB_SATA/Nuvens/GoogleDrive\")\n",
    "  pth_wd = Path(\"/opt/notebooks/projetos/books-llm-opensource/Outros/docx\")\n",
    "\n",
    "pth_pasta_dados = GD_dados / \"Siconfi-Dados-Dashboard/\" / \"Estados\"\n",
    "\n",
    "print(f\"📂🏠 Diretório atual inicial:\\n{Path.cwd()}\")\n",
    "print(f\"🖥️ Nome do computador: {nome_do_computador}\")\n",
    "print(f\"\"\"📂☁️ GD_dados >> {GD_dados}\"\"\")"
   ]
  },
  {
   "cell_type": "code",
   "execution_count": null,
   "id": "d80d9b57",
   "metadata": {},
   "outputs": [],
   "source": [
    "li_contas = [\"Cota-Parte do FPE\", \"ICMS\", \"IPVA\", \"IRRF\", \"Receita Corrente Líquida\", \"Receitas Correntes\"]\n",
    "li_contas_siglas = [\"fpe\", \"icms\", \"ipva\", \"irrf\", \"rcl\", \"rc\"]\n",
    "li_UFs = [\"AC\", \"AL\", \"AP\", \"AM\", \"BA\", \"CE\", \"DF\", \"ES\", \"GO\", \"MA\", \"MT\", \"MS\", \"MG\", \"PA\", \"PB\", \"PR\", \"PE\", \"PI\", \"RJ\", \"RN\", \"RS\", \"RO\", \"RR\", \"SC\", \"SP\", \"SE\", \"TO\"]"
   ]
  },
  {
   "cell_type": "code",
   "execution_count": 21,
   "id": "e72bbf9b",
   "metadata": {},
   "outputs": [
    {
     "name": "stdout",
     "output_type": "stream",
     "text": [
      "{'prevs_minimo': '528.645.942,37 reais (2025-09)', 'prevs_maximo': '930.922.695,66 reais (2026-02)', 'prevs_media': '686.189.901,85 reais', 'prevs_somaProx12meses': '8.234.278.822,22 reais', 'prevs_mediana': '686.020.631,02 reais', 'prevs_desvioPadrao': '111.987.059,96 reais', 'prevs_mediaUltimos12m': '616184231.42 reais', 'prevs_mediaPrevistaForaDaAmostra': '686189901.85 reais', 'prevs_crescimentoPercentualPrevisto': '+11.36%', 'periodo_treinamento': '2014-03 a 2025-08 (138 meses)', 'periodo_previsoes': '2025-09 a 2026-08 (12 meses)'}\n"
     ]
    }
   ],
   "source": [
    "with open(pth_pasta_dados / \"AC_cpfpe_arima_previsoesForaSumario.json\", 'r', encoding='utf-8') as file:\n",
    "    dic_previsoesArimaForaSumario = json.load(file)\n",
    "\n",
    "print(dic_previsoesArimaForaSumario)"
   ]
  },
  {
   "cell_type": "code",
   "execution_count": null,
   "id": "ff5a1a43",
   "metadata": {},
   "outputs": [
    {
     "data": {
      "text/plain": [
       "'2014-03 a 2025-08 (138 meses)'"
      ]
     },
     "execution_count": 10,
     "metadata": {},
     "output_type": "execute_result"
    }
   ],
   "source": [
    "str_dataset = dic_prevsFora.get(\"periodo_treinamento\")\n",
    "str_dataset\n",
    "\n",
    "# AC_cpfpe_modelosPrevisoes.csv\n",
    "# AC_cpfpe_modelosMetricas.csv"
   ]
  },
  {
   "cell_type": "code",
   "execution_count": 17,
   "id": "e1ddd112",
   "metadata": {},
   "outputs": [],
   "source": [
    "df_previsoes = pd.read_csv(pth_pasta_dados / 'AC_cpfpe_modelosPrevisoes.csv', sep=',', encoding='utf-8', header=0, index_col=0)\n",
    "df_previsoes = df_previsoes.rename(columns={\n",
    "    'VP_HW': 'Holt-Winters',\n",
    "    'VP_ARIMA': 'ARIMA',\n",
    "    'VP_RN': 'Redes Neurais'\n",
    "})"
   ]
  },
  {
   "cell_type": "code",
   "execution_count": 18,
   "id": "661a89a7",
   "metadata": {},
   "outputs": [
    {
     "data": {
      "application/vnd.microsoft.datawrangler.viewer.v0+json": {
       "columns": [
        {
         "name": "Mês",
         "rawType": "object",
         "type": "string"
        },
        {
         "name": "Holt-Winters",
         "rawType": "object",
         "type": "string"
        },
        {
         "name": "ARIMA",
         "rawType": "object",
         "type": "string"
        },
        {
         "name": "Redes Neurais",
         "rawType": "object",
         "type": "string"
        }
       ],
       "ref": "759239f9-dfe8-475e-aa2b-a18731ebbb16",
       "rows": [
        [
         "2025-09",
         "539.998.738,12",
         "528.645.942,37",
         "551.312.798,29"
        ],
        [
         "2025-10",
         "573.761.829,58",
         "555.444.892,39",
         "652.950.268,54"
        ],
        [
         "2025-11",
         "702.434.682,91",
         "687.352.964,32",
         "789.839.738,88"
        ],
        [
         "2025-12",
         "754.877.344,88",
         "748.823.779,80",
         "794.277.464,44"
        ],
        [
         "2026-01",
         "695.515.166,60",
         "690.599.625,90",
         "795.603.274,55"
        ],
        [
         "2026-02",
         "922.748.705,19",
         "930.922.695,66",
         "795.924.583,51"
        ],
        [
         "2026-03",
         "625.384.879,24",
         "632.414.309,51",
         "740.764.153,24"
        ],
        [
         "2026-04",
         "648.712.618,46",
         "648.483.298,61",
         "790.840.933,82"
        ],
        [
         "2026-05",
         "756.055.391,26",
         "771.958.256,09",
         "795.869.947,38"
        ],
        [
         "2026-06",
         "765.564.796,98",
         "805.762.798,66",
         "795.766.115,73"
        ],
        [
         "2026-07",
         "534.303.280,52",
         "549.181.961,20",
         "616.523.939,64"
        ],
        [
         "2026-08",
         "669.549.603,03",
         "684.688.297,72",
         "783.824.575,71"
        ]
       ],
       "shape": {
        "columns": 3,
        "rows": 12
       }
      },
      "text/html": [
       "<div>\n",
       "<style scoped>\n",
       "    .dataframe tbody tr th:only-of-type {\n",
       "        vertical-align: middle;\n",
       "    }\n",
       "\n",
       "    .dataframe tbody tr th {\n",
       "        vertical-align: top;\n",
       "    }\n",
       "\n",
       "    .dataframe thead th {\n",
       "        text-align: right;\n",
       "    }\n",
       "</style>\n",
       "<table border=\"1\" class=\"dataframe\">\n",
       "  <thead>\n",
       "    <tr style=\"text-align: right;\">\n",
       "      <th></th>\n",
       "      <th>Holt-Winters</th>\n",
       "      <th>ARIMA</th>\n",
       "      <th>Redes Neurais</th>\n",
       "    </tr>\n",
       "    <tr>\n",
       "      <th>Mês</th>\n",
       "      <th></th>\n",
       "      <th></th>\n",
       "      <th></th>\n",
       "    </tr>\n",
       "  </thead>\n",
       "  <tbody>\n",
       "    <tr>\n",
       "      <th>2025-09</th>\n",
       "      <td>539.998.738,12</td>\n",
       "      <td>528.645.942,37</td>\n",
       "      <td>551.312.798,29</td>\n",
       "    </tr>\n",
       "    <tr>\n",
       "      <th>2025-10</th>\n",
       "      <td>573.761.829,58</td>\n",
       "      <td>555.444.892,39</td>\n",
       "      <td>652.950.268,54</td>\n",
       "    </tr>\n",
       "    <tr>\n",
       "      <th>2025-11</th>\n",
       "      <td>702.434.682,91</td>\n",
       "      <td>687.352.964,32</td>\n",
       "      <td>789.839.738,88</td>\n",
       "    </tr>\n",
       "    <tr>\n",
       "      <th>2025-12</th>\n",
       "      <td>754.877.344,88</td>\n",
       "      <td>748.823.779,80</td>\n",
       "      <td>794.277.464,44</td>\n",
       "    </tr>\n",
       "    <tr>\n",
       "      <th>2026-01</th>\n",
       "      <td>695.515.166,60</td>\n",
       "      <td>690.599.625,90</td>\n",
       "      <td>795.603.274,55</td>\n",
       "    </tr>\n",
       "    <tr>\n",
       "      <th>2026-02</th>\n",
       "      <td>922.748.705,19</td>\n",
       "      <td>930.922.695,66</td>\n",
       "      <td>795.924.583,51</td>\n",
       "    </tr>\n",
       "    <tr>\n",
       "      <th>2026-03</th>\n",
       "      <td>625.384.879,24</td>\n",
       "      <td>632.414.309,51</td>\n",
       "      <td>740.764.153,24</td>\n",
       "    </tr>\n",
       "    <tr>\n",
       "      <th>2026-04</th>\n",
       "      <td>648.712.618,46</td>\n",
       "      <td>648.483.298,61</td>\n",
       "      <td>790.840.933,82</td>\n",
       "    </tr>\n",
       "    <tr>\n",
       "      <th>2026-05</th>\n",
       "      <td>756.055.391,26</td>\n",
       "      <td>771.958.256,09</td>\n",
       "      <td>795.869.947,38</td>\n",
       "    </tr>\n",
       "    <tr>\n",
       "      <th>2026-06</th>\n",
       "      <td>765.564.796,98</td>\n",
       "      <td>805.762.798,66</td>\n",
       "      <td>795.766.115,73</td>\n",
       "    </tr>\n",
       "    <tr>\n",
       "      <th>2026-07</th>\n",
       "      <td>534.303.280,52</td>\n",
       "      <td>549.181.961,20</td>\n",
       "      <td>616.523.939,64</td>\n",
       "    </tr>\n",
       "    <tr>\n",
       "      <th>2026-08</th>\n",
       "      <td>669.549.603,03</td>\n",
       "      <td>684.688.297,72</td>\n",
       "      <td>783.824.575,71</td>\n",
       "    </tr>\n",
       "  </tbody>\n",
       "</table>\n",
       "</div>"
      ],
      "text/plain": [
       "           Holt-Winters           ARIMA   Redes Neurais\n",
       "Mês                                                    \n",
       "2025-09  539.998.738,12  528.645.942,37  551.312.798,29\n",
       "2025-10  573.761.829,58  555.444.892,39  652.950.268,54\n",
       "2025-11  702.434.682,91  687.352.964,32  789.839.738,88\n",
       "2025-12  754.877.344,88  748.823.779,80  794.277.464,44\n",
       "2026-01  695.515.166,60  690.599.625,90  795.603.274,55\n",
       "2026-02  922.748.705,19  930.922.695,66  795.924.583,51\n",
       "2026-03  625.384.879,24  632.414.309,51  740.764.153,24\n",
       "2026-04  648.712.618,46  648.483.298,61  790.840.933,82\n",
       "2026-05  756.055.391,26  771.958.256,09  795.869.947,38\n",
       "2026-06  765.564.796,98  805.762.798,66  795.766.115,73\n",
       "2026-07  534.303.280,52  549.181.961,20  616.523.939,64\n",
       "2026-08  669.549.603,03  684.688.297,72  783.824.575,71"
      ]
     },
     "execution_count": 18,
     "metadata": {},
     "output_type": "execute_result"
    }
   ],
   "source": [
    "df_previsoes"
   ]
  },
  {
   "cell_type": "code",
   "execution_count": 13,
   "id": "e58c8cae",
   "metadata": {},
   "outputs": [],
   "source": [
    "df_metricas = pd.read_csv(pth_pasta_dados / 'AC_cpfpe_modelosMetricas.csv', sep=',', encoding='utf-8', header=0, index_col=0)"
   ]
  },
  {
   "cell_type": "code",
   "execution_count": 14,
   "id": "c59f6597",
   "metadata": {},
   "outputs": [
    {
     "data": {
      "application/vnd.microsoft.datawrangler.viewer.v0+json": {
       "columns": [
        {
         "name": "Modelo",
         "rawType": "object",
         "type": "string"
        },
        {
         "name": "RMSE",
         "rawType": "object",
         "type": "string"
        },
        {
         "name": "MAE",
         "rawType": "object",
         "type": "string"
        },
        {
         "name": "MAPE",
         "rawType": "object",
         "type": "string"
        }
       ],
       "ref": "f1a507c2-9446-4175-a959-dc0249727d1b",
       "rows": [
        [
         "Redes Neurais",
         "104.326.330,09",
         "68.691.997,24",
         "9,47"
        ],
        [
         "ARIMA",
         "55.643.393,92",
         "43.914.326,78",
         "6,96"
        ],
        [
         "Holt-Winters",
         "54.472.540,15",
         "41.242.861,88",
         "6,45"
        ]
       ],
       "shape": {
        "columns": 3,
        "rows": 3
       }
      },
      "text/html": [
       "<div>\n",
       "<style scoped>\n",
       "    .dataframe tbody tr th:only-of-type {\n",
       "        vertical-align: middle;\n",
       "    }\n",
       "\n",
       "    .dataframe tbody tr th {\n",
       "        vertical-align: top;\n",
       "    }\n",
       "\n",
       "    .dataframe thead th {\n",
       "        text-align: right;\n",
       "    }\n",
       "</style>\n",
       "<table border=\"1\" class=\"dataframe\">\n",
       "  <thead>\n",
       "    <tr style=\"text-align: right;\">\n",
       "      <th></th>\n",
       "      <th>RMSE</th>\n",
       "      <th>MAE</th>\n",
       "      <th>MAPE</th>\n",
       "    </tr>\n",
       "    <tr>\n",
       "      <th>Modelo</th>\n",
       "      <th></th>\n",
       "      <th></th>\n",
       "      <th></th>\n",
       "    </tr>\n",
       "  </thead>\n",
       "  <tbody>\n",
       "    <tr>\n",
       "      <th>Redes Neurais</th>\n",
       "      <td>104.326.330,09</td>\n",
       "      <td>68.691.997,24</td>\n",
       "      <td>9,47</td>\n",
       "    </tr>\n",
       "    <tr>\n",
       "      <th>ARIMA</th>\n",
       "      <td>55.643.393,92</td>\n",
       "      <td>43.914.326,78</td>\n",
       "      <td>6,96</td>\n",
       "    </tr>\n",
       "    <tr>\n",
       "      <th>Holt-Winters</th>\n",
       "      <td>54.472.540,15</td>\n",
       "      <td>41.242.861,88</td>\n",
       "      <td>6,45</td>\n",
       "    </tr>\n",
       "  </tbody>\n",
       "</table>\n",
       "</div>"
      ],
      "text/plain": [
       "                         RMSE            MAE  MAPE\n",
       "Modelo                                            \n",
       "Redes Neurais  104.326.330,09  68.691.997,24  9,47\n",
       "ARIMA           55.643.393,92  43.914.326,78  6,96\n",
       "Holt-Winters    54.472.540,15  41.242.861,88  6,45"
      ]
     },
     "execution_count": 14,
     "metadata": {},
     "output_type": "execute_result"
    }
   ],
   "source": [
    "df_metricas"
   ]
  },
  {
   "cell_type": "code",
   "execution_count": 19,
   "id": "f5c23586",
   "metadata": {},
   "outputs": [
    {
     "data": {
      "text/plain": [
       "'54.472.540,15'"
      ]
     },
     "execution_count": 19,
     "metadata": {},
     "output_type": "execute_result"
    }
   ],
   "source": [
    "df_metricas.iloc[2,0]"
   ]
  },
  {
   "cell_type": "code",
   "execution_count": 20,
   "id": "a785f651",
   "metadata": {},
   "outputs": [
    {
     "data": {
      "text/plain": [
       "'Holt-Winters'"
      ]
     },
     "execution_count": 20,
     "metadata": {},
     "output_type": "execute_result"
    }
   ],
   "source": [
    "df_metricas.index[2]"
   ]
  },
  {
   "cell_type": "code",
   "execution_count": null,
   "id": "ce77eba5",
   "metadata": {},
   "outputs": [],
   "source": []
  },
  {
   "cell_type": "code",
   "execution_count": 1,
   "id": "b52fccb3",
   "metadata": {},
   "outputs": [],
   "source": [
    "import cloudinary\n",
    "import cloudinary.uploader\n",
    "from pathlib import Path"
   ]
  },
  {
   "cell_type": "code",
   "execution_count": 10,
   "id": "e06eb839",
   "metadata": {},
   "outputs": [
    {
     "name": "stdout",
     "output_type": "stream",
     "text": [
      "True\n"
     ]
    }
   ],
   "source": [
    "from pathlib import Path\n",
    "cwd = Path.cwd()\n",
    "arquivo = cwd / \"dados\" / \"Estados\" / \"MS_ipva_arima_previsoesDentro.png\"\n",
    "str_arquivo = str(arquivo)\n",
    "print(arquivo.exists())"
   ]
  },
  {
   "cell_type": "code",
   "execution_count": null,
   "id": "728c6160",
   "metadata": {},
   "outputs": [],
   "source": []
  },
  {
   "cell_type": "code",
   "execution_count": null,
   "id": "44f8a4a8",
   "metadata": {},
   "outputs": [],
   "source": []
  },
  {
   "cell_type": "code",
   "execution_count": null,
   "id": "9f4d2ac3",
   "metadata": {},
   "outputs": [],
   "source": []
  }
 ],
 "metadata": {
  "kernelspec": {
   "display_name": "llm_001",
   "language": "python",
   "name": "python3"
  },
  "language_info": {
   "codemirror_mode": {
    "name": "ipython",
    "version": 3
   },
   "file_extension": ".py",
   "mimetype": "text/x-python",
   "name": "python",
   "nbconvert_exporter": "python",
   "pygments_lexer": "ipython3",
   "version": "3.12.9"
  }
 },
 "nbformat": 4,
 "nbformat_minor": 5
}
